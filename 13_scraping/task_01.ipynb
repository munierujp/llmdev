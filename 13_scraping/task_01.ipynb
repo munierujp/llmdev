{
 "cells": [
  {
   "cell_type": "markdown",
   "id": "663c6ca9",
   "metadata": {},
   "source": [
    "# 課題 スクレイピングを業務で活用するアイデアを考えてみよう"
   ]
  },
  {
   "cell_type": "markdown",
   "id": "8f9204f0",
   "metadata": {},
   "source": [
    "[Yahoo! JAPANのトップページ](https://www.yahoo.co.jp/)から主要ニュースのリストを取得し、Markdown形式に変換して表示する。"
   ]
  },
  {
   "cell_type": "markdown",
   "id": "079bddfa",
   "metadata": {},
   "source": [
    "## LLMを使わない場合"
   ]
  },
  {
   "cell_type": "code",
   "execution_count": 10,
   "id": "fc7e11d0",
   "metadata": {},
   "outputs": [
    {
     "name": "stdout",
     "output_type": "stream",
     "text": [
      "- [備蓄米 定期販売も選択肢と小泉氏](https://news.yahoo.co.jp/pickup/6551885)\n",
      "- [総裁選 平デジタル相が派閥けん制](https://news.yahoo.co.jp/pickup/6551883)\n",
      "- [立駐でベビーカー転落 0歳児搬送](https://news.yahoo.co.jp/pickup/6551882)\n",
      "- [ラーメン店強殺 起訴内容一部否認](https://news.yahoo.co.jp/pickup/6551888)\n",
      "- [偽のミャクミャクT 所持疑い逮捕](https://news.yahoo.co.jp/pickup/6551879)\n",
      "- [セブンがロボット試験導入 省人化](https://news.yahoo.co.jp/pickup/6551887)\n",
      "- [101回目続編 抵抗感じる人いる訳](https://news.yahoo.co.jp/pickup/6551876)\n",
      "- [吉田照美 体調不良で活動休止](https://news.yahoo.co.jp/pickup/6551878)\n"
     ]
    }
   ],
   "source": [
    "import requests\n",
    "from bs4 import BeautifulSoup\n",
    "from typing import TypedDict\n",
    "\n",
    "class News(TypedDict):\n",
    "  title: str\n",
    "  url: str\n",
    "\n",
    "def fetch_news_list() -> list[News]:\n",
    "  response = requests.get(\"https://www.yahoo.co.jp/\")\n",
    "  response.raise_for_status()\n",
    "  soup = BeautifulSoup(response.content, \"html.parser\")\n",
    "  news_links = soup.select('#tabpanelTopics1 [aria-label=\"主要 ニュース\"] a[href^=\"https://news.yahoo.co.jp/\"]')\n",
    "  news_list = []\n",
    "\n",
    "  for link in news_links:\n",
    "    title = link.select_one('h1').get_text(strip=True)\n",
    "    url = link.get('href')\n",
    "    news: News = {\"title\": title, \"url\": url}\n",
    "    news_list.append(news)\n",
    "\n",
    "  return news_list\n",
    "\n",
    "def to_markdown(news_list: list[News]) -> str:\n",
    "  markdown_lines = []\n",
    "\n",
    "  for news in news_list:\n",
    "    markdown_lines.append(f\"- [{news['title']}]({news['url']})\")\n",
    "\n",
    "  return \"\\n\".join(markdown_lines)\n",
    "\n",
    "def fetch_news_list_not_using_llm() -> str:\n",
    "  news_list = fetch_news_list()\n",
    "  return to_markdown(news_list)\n",
    "\n",
    "if __name__ == \"__main__\":\n",
    "  markdown_not_using_llm = fetch_news_list_not_using_llm()\n",
    "  print(markdown_not_using_llm)"
   ]
  },
  {
   "cell_type": "markdown",
   "id": "f4860b9a",
   "metadata": {},
   "source": [
    "## LLMを使う場合"
   ]
  },
  {
   "cell_type": "code",
   "execution_count": 3,
   "id": "8ed13571",
   "metadata": {},
   "outputs": [
    {
     "name": "stdout",
     "output_type": "stream",
     "text": [
      "- [備蓄米 定期販売も選択肢と小泉氏](https://news.yahoo.co.jp/pickup/6551885)\n",
      "- [総裁選 平デジタル相が派閥けん制](https://news.yahoo.co.jp/pickup/6551883)\n",
      "- [ネパール政府 SNS禁止令を解除](https://news.yahoo.co.jp/pickup/6551863)\n",
      "- [立駐でベビーカー転落 0歳児搬送](https://news.yahoo.co.jp/pickup/6551882)\n",
      "- [偽のミャクミャクT 所持疑い逮捕](https://news.yahoo.co.jp/pickup/6551879)\n",
      "- [セブンがロボット試験導入 省人化](https://news.yahoo.co.jp/pickup/6551887)\n",
      "- [101回目続編 抵抗感じる人いる訳](https://news.yahoo.co.jp/pickup/6551876)\n",
      "- [吉田照美 体調不良で活動休止](https://news.yahoo.co.jp/pickup/6551878)\n"
     ]
    }
   ],
   "source": [
    "import requests\n",
    "from bs4 import BeautifulSoup\n",
    "import os\n",
    "from dotenv import load_dotenv\n",
    "from openai import OpenAI\n",
    "\n",
    "MODEL_NAME = \"gpt-4o-mini\"\n",
    "\n",
    "def fetch_news_list_using_llm() -> str:\n",
    "  response = requests.get(\"https://www.yahoo.co.jp/\")\n",
    "  response.raise_for_status()\n",
    "  soup = BeautifulSoup(response.content, \"html.parser\")\n",
    "  body = str(soup.body)\n",
    "  load_dotenv(\"../.env\")\n",
    "  client = OpenAI(api_key=os.environ['API_KEY'])\n",
    "  prompt = f\"\"\"\n",
    "  以下のHTMLから主要ニュースを抽出し、タイトルとURLを以下のようなMarkdown形式で出力してくだい。\n",
    "  一覧以外（コードブロック用の```など）は出力しないでください。\n",
    "\n",
    "  出力形式:\n",
    "  - [タイトル](URL)\n",
    "\n",
    "  HTML:\n",
    "  ```html\n",
    "  {body[:100000]}\n",
    "  ```\n",
    "  \"\"\"\n",
    "  response = client.chat.completions.create(\n",
    "    model=MODEL_NAME,\n",
    "    messages=[\n",
    "      {\"role\": \"user\", \"content\": prompt},\n",
    "    ],\n",
    "    max_tokens=500,\n",
    "    temperature=0.3\n",
    "  )\n",
    "  return response.choices[0].message.content.strip()\n",
    "\n",
    "if __name__ == \"__main__\":\n",
    "  markdown_using_llm = fetch_news_list_using_llm()\n",
    "  print(markdown_using_llm)"
   ]
  },
  {
   "cell_type": "markdown",
   "id": "d430dc21",
   "metadata": {},
   "source": [
    "## テスト"
   ]
  },
  {
   "cell_type": "code",
   "execution_count": 4,
   "id": "276fa056",
   "metadata": {},
   "outputs": [],
   "source": [
    "assert markdown_not_using_llm == markdown_using_llm"
   ]
  }
 ],
 "metadata": {
  "kernelspec": {
   "display_name": ".venv",
   "language": "python",
   "name": "python3"
  },
  "language_info": {
   "codemirror_mode": {
    "name": "ipython",
    "version": 3
   },
   "file_extension": ".py",
   "mimetype": "text/x-python",
   "name": "python",
   "nbconvert_exporter": "python",
   "pygments_lexer": "ipython3",
   "version": "3.12.7"
  }
 },
 "nbformat": 4,
 "nbformat_minor": 5
}
