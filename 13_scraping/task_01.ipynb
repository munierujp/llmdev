{
 "cells": [
  {
   "cell_type": "markdown",
   "id": "663c6ca9",
   "metadata": {},
   "source": [
    "# 課題 スクレイピングを業務で活用するアイデアを考えてみよう"
   ]
  },
  {
   "cell_type": "markdown",
   "id": "8f9204f0",
   "metadata": {},
   "source": [
    "[Yahoo! JAPANのトップページ](https://www.yahoo.co.jp/)から主要ニュースのリストを取得し、Markdown形式に変換して表示する。"
   ]
  },
  {
   "cell_type": "markdown",
   "id": "079bddfa",
   "metadata": {},
   "source": [
    "## LLMを使わない場合"
   ]
  },
  {
   "cell_type": "code",
   "execution_count": 2,
   "id": "fc7e11d0",
   "metadata": {},
   "outputs": [
    {
     "name": "stdout",
     "output_type": "stream",
     "text": [
      "- [中継 同友会・新浪代表幹事が会見](https://news.yahoo.co.jp/pickup/6551251)\n",
      "- [九州太平洋側 3日夜から大雨恐れ](https://news.yahoo.co.jp/pickup/6551243)\n",
      "- [JAL機長飲酒 国交省立ち入り監査](https://news.yahoo.co.jp/pickup/6551246)\n",
      "- [わいせつ行為生配信疑い 4人逮捕](https://news.yahoo.co.jp/pickup/6551242)\n",
      "- [見知らぬ人から尾行 気づくか検証](https://news.yahoo.co.jp/pickup/6551240)\n",
      "- [温泉休止SNSで拡散 復旧伝わらず](https://news.yahoo.co.jp/pickup/6551228)\n",
      "- [記憶喪失の男性 有力情報相次ぐ](https://news.yahoo.co.jp/pickup/6551247)\n",
      "- [清水尋也容疑者を逮捕 事務所謝罪](https://news.yahoo.co.jp/pickup/6551244)\n"
     ]
    }
   ],
   "source": [
    "import requests\n",
    "from bs4 import BeautifulSoup\n",
    "from dataclasses import dataclass\n",
    "\n",
    "@dataclass\n",
    "class News:\n",
    "  title: str\n",
    "  url: str\n",
    "\n",
    "def fetch_news_list() -> list[News]:\n",
    "  response = requests.get(\"https://www.yahoo.co.jp/\")\n",
    "  response.raise_for_status()\n",
    "  soup = BeautifulSoup(response.content, \"html.parser\")\n",
    "  news_links = soup.select('#tabpanelTopics1 [aria-label=\"主要 ニュース\"] a[href^=\"https://news.yahoo.co.jp/\"]')\n",
    "  news_list = []\n",
    "  \n",
    "  for link in news_links:\n",
    "    title = link.select_one('h1').get_text(strip=True)\n",
    "    url = link.get('href')\n",
    "    news = News(title=title, url=url)\n",
    "    news_list.append(news)\n",
    "\n",
    "  return news_list\n",
    "\n",
    "def to_markdown(news_list: list[News]) -> str:\n",
    "  markdown_lines = []\n",
    "\n",
    "  for news in news_list:\n",
    "    markdown_lines.append(f\"- [{news.title}]({news.url})\")\n",
    "\n",
    "  return \"\\n\".join(markdown_lines)\n",
    "\n",
    "def fetch_news_list_not_using_llm() -> str:\n",
    "  news_list = fetch_news_list()\n",
    "  return to_markdown(news_list)\n",
    "\n",
    "if __name__ == \"__main__\":\n",
    "  markdown_not_using_llm = fetch_news_list_not_using_llm()\n",
    "  print(markdown_not_using_llm)"
   ]
  },
  {
   "cell_type": "markdown",
   "id": "f4860b9a",
   "metadata": {},
   "source": [
    "## LLMを使う場合"
   ]
  },
  {
   "cell_type": "code",
   "execution_count": 3,
   "id": "8ed13571",
   "metadata": {},
   "outputs": [
    {
     "name": "stdout",
     "output_type": "stream",
     "text": [
      "- [中継 同友会・新浪代表幹事が会見](https://news.yahoo.co.jp/pickup/6551251)\n",
      "- [九州太平洋側 3日夜から大雨恐れ](https://news.yahoo.co.jp/pickup/6551243)\n",
      "- [JAL機長飲酒 国交省立ち入り監査](https://news.yahoo.co.jp/pickup/6551246)\n",
      "- [わいせつ行為生配信疑い 4人逮捕](https://news.yahoo.co.jp/pickup/6551242)\n",
      "- [見知らぬ人から尾行 気づくか検証](https://news.yahoo.co.jp/pickup/6551240)\n",
      "- [温泉休止SNSで拡散 復旧伝わらず](https://news.yahoo.co.jp/pickup/6551228)\n",
      "- [記憶喪失の男性 有力情報相次ぐ](https://news.yahoo.co.jp/pickup/6551247)\n",
      "- [清水尋也容疑者を逮捕 事務所謝罪](https://news.yahoo.co.jp/pickup/6551244)\n"
     ]
    }
   ],
   "source": [
    "import requests\n",
    "from bs4 import BeautifulSoup\n",
    "import os\n",
    "from dotenv import load_dotenv\n",
    "from openai import OpenAI\n",
    "\n",
    "MODEL_NAME = \"gpt-4o-mini\"\n",
    "\n",
    "def fetch_news_list_using_llm() -> str:\n",
    "  response = requests.get(\"https://www.yahoo.co.jp/\")\n",
    "  response.raise_for_status()\n",
    "  soup = BeautifulSoup(response.content, \"html.parser\")\n",
    "  body = str(soup.body)\n",
    "  load_dotenv(\"../.env\")\n",
    "  client = OpenAI(api_key=os.environ['API_KEY'])\n",
    "  prompt = f\"\"\"\n",
    "  以下のHTMLから主要ニュースを抽出し、タイトルとURLを以下のようなMarkdown形式で出力してくだい。\n",
    "  一覧以外（コードブロック用の```など）は出力しないでください。\n",
    "\n",
    "  出力形式:\n",
    "  - [タイトル](URL)\n",
    "\n",
    "  HTML:\n",
    "  ```html\n",
    "  {body[:100000]}\n",
    "  ```\n",
    "  \"\"\"\n",
    "  response = client.chat.completions.create(\n",
    "    model=MODEL_NAME,\n",
    "    messages=[\n",
    "      {\"role\": \"user\", \"content\": prompt},\n",
    "    ],\n",
    "    max_tokens=500,\n",
    "    temperature=0.3\n",
    "  )\n",
    "  return response.choices[0].message.content.strip()\n",
    "\n",
    "if __name__ == \"__main__\":\n",
    "  markdown_using_llm = fetch_news_list_using_llm()\n",
    "  print(markdown_using_llm)"
   ]
  },
  {
   "cell_type": "markdown",
   "id": "d430dc21",
   "metadata": {},
   "source": [
    "## テスト"
   ]
  },
  {
   "cell_type": "code",
   "execution_count": 4,
   "id": "276fa056",
   "metadata": {},
   "outputs": [],
   "source": [
    "assert markdown_not_using_llm == markdown_using_llm"
   ]
  }
 ],
 "metadata": {
  "kernelspec": {
   "display_name": ".venv",
   "language": "python",
   "name": "python3"
  },
  "language_info": {
   "codemirror_mode": {
    "name": "ipython",
    "version": 3
   },
   "file_extension": ".py",
   "mimetype": "text/x-python",
   "name": "python",
   "nbconvert_exporter": "python",
   "pygments_lexer": "ipython3",
   "version": "3.12.7"
  }
 },
 "nbformat": 4,
 "nbformat_minor": 5
}
