{
 "cells": [
  {
   "cell_type": "markdown",
   "id": "f7eda6d3",
   "metadata": {},
   "source": [
    "# 課題 自己紹介しよう\n",
    "\n",
    "## 仕様\n",
    "\n",
    "自己紹介プログラムを作成してください。\n",
    "\n",
    "- 名前と年齢を格納する変数を用意して、値の代入を行ってください。\n",
    "- 上記の変数を使用して、自己紹介の内容を出力してください。\n",
    "\n",
    "## 実行結果の例：\n",
    "\n",
    "名前が `山田太郎` 、年齢が `25` の場合の実行結果は以下のようになります。なお「来年の年齢」は、変数「年齢」を使って表示してください。\n",
    "\n",
    "```\n",
    "はじめまして、 山田太郎 と申します。\n",
    "年齢は 25 歳です。来年は 26 歳になります。\n",
    "よろしくお願いします。\n",
    "```"
   ]
  },
  {
   "cell_type": "code",
   "execution_count": 6,
   "id": "66c9cf02",
   "metadata": {},
   "outputs": [
    {
     "name": "stdout",
     "output_type": "stream",
     "text": [
      "はじめまして、 山田太郎 と申します。\n",
      "年齢は 25 歳です。来年は 26 歳になります。\n",
      "よろしくお願いします。\n"
     ]
    }
   ],
   "source": [
    "name = \"山田太郎\"\n",
    "age = 25\n",
    "message = f\"\"\"\n",
    "はじめまして、 {name} と申します。\n",
    "年齢は {age} 歳です。来年は {age+1} 歳になります。\n",
    "よろしくお願いします。\n",
    "\"\"\".strip(\"\\n\")\n",
    "print(message)"
   ]
  },
  {
   "cell_type": "markdown",
   "id": "dac23c17",
   "metadata": {},
   "source": [
    "## テスト"
   ]
  },
  {
   "cell_type": "code",
   "execution_count": 7,
   "id": "b8cbb0c0",
   "metadata": {},
   "outputs": [],
   "source": [
    "expected = \"\"\"\n",
    "はじめまして、 山田太郎 と申します。\n",
    "年齢は 25 歳です。来年は 26 歳になります。\n",
    "よろしくお願いします。\n",
    "\"\"\".strip(\"\\n\")\n",
    "assert message == expected"
   ]
  }
 ],
 "metadata": {
  "kernelspec": {
   "display_name": ".venv",
   "language": "python",
   "name": "python3"
  },
  "language_info": {
   "codemirror_mode": {
    "name": "ipython",
    "version": 3
   },
   "file_extension": ".py",
   "mimetype": "text/x-python",
   "name": "python",
   "nbconvert_exporter": "python",
   "pygments_lexer": "ipython3",
   "version": "3.12.7"
  }
 },
 "nbformat": 4,
 "nbformat_minor": 5
}
