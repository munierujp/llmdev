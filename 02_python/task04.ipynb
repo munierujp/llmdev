{
 "cells": [
  {
   "cell_type": "markdown",
   "id": "939bba0d",
   "metadata": {},
   "source": [
    "## 数値計算の例外処理を行おう\n",
    "\n",
    "堅牢なプログラムには例外処理が必要不可欠です。ここでは不正な入力でも異常終了しない、割り算専用の計算ツールを作成してみましょう。\n",
    "\n",
    "`02_python` フォルダの中に `task04.ipynb` というノートブックを作成し、以下の仕様を満たすプログラムを記述してください。\n",
    "\n",
    "## 仕様\n",
    "\n",
    "- ユーザーに2つの数値を入力させ、それらを割り算するプログラムを作成してください。  \n",
    "- 数値の代わりに文字を入力した場合は「エラー: 数値を入力してください」と表示します。  \n",
    "- 割る数が0の場合は「エラー: 0で割ることはできません」と表示します。  \n",
    "- 計算が正常に完了した場合、結果を表示してください。\n",
    "\n",
    "## 実行結果の例：\n",
    "\n",
    "**1つ目の数を `100`、2つ目の数を `10` と入力した場合**\n",
    "\n",
    "```\n",
    "計算結果: 10.0\n",
    "```\n",
    "\n",
    "**1つ目の数を `100`、2つ目の数を `0` と入力した場合**\n",
    "\n",
    "```\n",
    "エラー: 0で割ることはできません\n",
    "```\n",
    "\n",
    "**1つ目の数を `a` と入力した場合**\n",
    "\n",
    "```\n",
    "エラー: 数値を入力してください\n",
    "```\n",
    "\n",
    "**1つ目の数を `100`、2つ目の数を `b` と入力した場合**\n",
    "\n",
    "```\n",
    "エラー: 数値を入力してください\n",
    "```"
   ]
  },
  {
   "cell_type": "markdown",
   "id": "939cf3de",
   "metadata": {},
   "source": [
    "## 回答"
   ]
  },
  {
   "cell_type": "code",
   "execution_count": 5,
   "id": "ff1e05c2",
   "metadata": {},
   "outputs": [
    {
     "name": "stdout",
     "output_type": "stream",
     "text": [
      "エラー: 数値を入力してください\n"
     ]
    }
   ],
   "source": [
    "try:\n",
    "  a = int(input(\"1つ目の数を入力してください: \"))\n",
    "  b = int(input(\"2つ目の数を入力してください: \"))\n",
    "  quotient = a / b\n",
    "except ValueError:\n",
    "  print(\"エラー: 数値を入力してください\")\n",
    "except ZeroDivisionError:\n",
    "  print(\"エラー: 0で割ることはできません\")\n",
    "else:\n",
    "  print(f\"計算結果: {quotient}\")"
   ]
  }
 ],
 "metadata": {
  "kernelspec": {
   "display_name": ".venv",
   "language": "python",
   "name": "python3"
  },
  "language_info": {
   "codemirror_mode": {
    "name": "ipython",
    "version": 3
   },
   "file_extension": ".py",
   "mimetype": "text/x-python",
   "name": "python",
   "nbconvert_exporter": "python",
   "pygments_lexer": "ipython3",
   "version": "3.12.7"
  }
 },
 "nbformat": 4,
 "nbformat_minor": 5
}
