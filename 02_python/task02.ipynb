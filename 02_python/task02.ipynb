{
 "cells": [
  {
   "cell_type": "markdown",
   "id": "92bec858",
   "metadata": {},
   "source": [
    "# 料込価格を計算しよう\n",
    "\n",
    "税抜価格を入力すると、税込価格と送料を計算する実用的なツールを作成してみましょう。\n",
    "\n",
    "`02_python` フォルダの中に `task02.ipynb` というノートブックを作成し、以下の仕様を満たすプログラムを記述してください。\n",
    "\n",
    "## 仕様\n",
    "\n",
    "入力された税抜価格をもとに、消費税込の価格と送料を合計した「送料込価格」を計算し、結果を表示するソースコードを作成してください。\n",
    "\n",
    "- 税込価格が2000円以上の場合は送料無料、2000円未満の場合は350円とします。\n",
    "- 消費税率は10%です。\n",
    "- 税抜価格の入力には `input()` 関数を使用してください。\n",
    "- 結果の表示にはf文字列を使用してください。\n",
    "\n",
    "## 解き方のヒント\n",
    "\n",
    "いきなりソースコードを書くのではなく、プログラム思考で仕様を整理しましょう。レッスン1の内容も参考にしてください。\n",
    "\n",
    "## 実行結果の例：\n",
    "\n",
    "**税抜価格が2000円の場合**\n",
    "\n",
    "```\n",
    "送料は無料です  \n",
    "送料込税込価格は2200円です\n",
    "```\n",
    "\n",
    "**税抜価格が1500円の場合**\n",
    "\n",
    "```\n",
    "送料は350円です  \n",
    "送料込税込価格は2000円です\n",
    "```"
   ]
  },
  {
   "cell_type": "markdown",
   "id": "d9aa3775",
   "metadata": {},
   "source": [
    "## 回答"
   ]
  },
  {
   "cell_type": "code",
   "execution_count": 1,
   "id": "4603c294",
   "metadata": {},
   "outputs": [
    {
     "name": "stdout",
     "output_type": "stream",
     "text": [
      "送料は350円です\n",
      "送料込税込価格は2000円です\n"
     ]
    }
   ],
   "source": [
    "TAX_RATE = 0.1\n",
    "\n",
    "def calc(price: int) -> str:\n",
    "  \"\"\"税抜価格をもとに送料込価格を計算し、メッセージを返す\"\"\"\n",
    "  price_with_tax = int(price * (1 + TAX_RATE))\n",
    "  fee = 0 if price_with_tax >= 2000 else 350\n",
    "  total_price = price_with_tax + fee\n",
    "  message = f\"\"\"\n",
    "送料は{'無料' if fee == 0 else str(fee) + '円'}です\n",
    "送料込税込価格は{total_price}円です\n",
    "\"\"\".strip(\"\\n\")\n",
    "  return message\n",
    "\n",
    "price = int(input(\"税抜価格を入力してください: \"))\n",
    "message = calc(price)\n",
    "print(message)"
   ]
  },
  {
   "cell_type": "markdown",
   "id": "e3fd6bc4",
   "metadata": {},
   "source": [
    "## テスト"
   ]
  },
  {
   "cell_type": "code",
   "execution_count": 2,
   "id": "e39bcb9b",
   "metadata": {},
   "outputs": [],
   "source": [
    "# 税抜価格が2000円の場合\n",
    "assert calc(2000) == \"\"\"\n",
    "送料は無料です\n",
    "送料込税込価格は2200円です\n",
    "\"\"\".strip(\"\\n\")\n",
    "\n",
    "# 税抜価格が1500円の場合\n",
    "assert calc(1500) == \"\"\"\n",
    "送料は350円です\n",
    "送料込税込価格は2000円です\n",
    "\"\"\".strip(\"\\n\")"
   ]
  }
 ],
 "metadata": {
  "kernelspec": {
   "display_name": ".venv",
   "language": "python",
   "name": "python3"
  },
  "language_info": {
   "codemirror_mode": {
    "name": "ipython",
    "version": 3
   },
   "file_extension": ".py",
   "mimetype": "text/x-python",
   "name": "python",
   "nbconvert_exporter": "python",
   "pygments_lexer": "ipython3",
   "version": "3.12.7"
  }
 },
 "nbformat": 4,
 "nbformat_minor": 5
}
