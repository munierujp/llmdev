{
 "cells": [
  {
   "cell_type": "markdown",
   "id": "4f66f362",
   "metadata": {},
   "source": [
    "## 課題 10年後の金額を複利で予測するプログラムを作成しよう\n",
    "\n",
    "コンピュータは預金や運用の計算にも広く用いられています。ここでは、10年後の金額を複利で予測するツールを作成してみましょう。\n",
    "\n",
    "`02_python` フォルダの中に `task03.ipynb` というノートブックを作成し、以下の仕様を満たすプログラムを記述してください。\n",
    "\n",
    "## 仕様\n",
    "\n",
    "入力された元金と金利をもとに、10年後の金額を複利で予測するプログラムを作成しましょう。次の条件に従って計算を行ってください。\n",
    "\n",
    "- ユーザーが元金（初期投資額）を入力します。入力には `input()` 関数を使用してください。  \n",
    "- ユーザーが年利（パーセンテージ）を入力します。入力には `input()` 関数を使用してください。  \n",
    "- 繰り返し構文を使用して、10年間の金額を計算します。\n",
    "\n",
    "**複利** とは、利子を次期の元金に組み入れる方式です。元金だけでなく利子にも次期の利子が付く方式で、預金や投資などに広く採用されています。\n",
    "\n",
    "例えば、元金が1000円、年利が5%の場合の金額は以下のように計算されます。\n",
    "\n",
    "- 1年後：`1000   * (1 + (5 / 100)) = 1050.0`  \n",
    "- 2年後：`1050.0 * (1 + (5 / 100)) = 1102.5`  \n",
    "- 3年後：`1102.5 * (1 + (5 / 100)) = 1157.625` …  \n",
    "\n",
    "## 実行結果の例：\n",
    "\n",
    "元金が1000円、年利が5%の場合は、以下のような出力となります。\n",
    "\n",
    "```\n",
    "元金を入力してください: 1000\n",
    "年利を入力してください: 5\n",
    "10年後の金額: 1628.89\n",
    "```"
   ]
  },
  {
   "cell_type": "markdown",
   "id": "ebcbbc0f",
   "metadata": {},
   "source": [
    "## 回答"
   ]
  },
  {
   "cell_type": "code",
   "execution_count": 26,
   "id": "ab7548e0",
   "metadata": {},
   "outputs": [
    {
     "name": "stdout",
     "output_type": "stream",
     "text": [
      "10年後の金額: 1628.89円\n"
     ]
    }
   ],
   "source": [
    "def calc(principal: int, rate: int) -> float:\n",
    "  \"\"\"10年後の金額を複利で計算する\"\"\"\n",
    "  price = principal\n",
    "  for year in range(1, 11):\n",
    "    price = price * (1 + (rate / 100))\n",
    "  return price\n",
    "\n",
    "principal = int(input(\"元金（円）を入力してください:\"))\n",
    "rate = int(input(\"年利（パーセンテージ）を入力してください:\"))\n",
    "price = calc(principal, rate)\n",
    "print(f\"10年後の金額: {price:.2f}円\")"
   ]
  },
  {
   "cell_type": "markdown",
   "id": "338cdbe4",
   "metadata": {},
   "source": [
    "## テスト"
   ]
  },
  {
   "cell_type": "code",
   "execution_count": 27,
   "id": "16a66bf1",
   "metadata": {},
   "outputs": [],
   "source": [
    "assert round(calc(1000, 5), 2) == 1628.89"
   ]
  }
 ],
 "metadata": {
  "kernelspec": {
   "display_name": ".venv",
   "language": "python",
   "name": "python3"
  },
  "language_info": {
   "codemirror_mode": {
    "name": "ipython",
    "version": 3
   },
   "file_extension": ".py",
   "mimetype": "text/x-python",
   "name": "python",
   "nbconvert_exporter": "python",
   "pygments_lexer": "ipython3",
   "version": "3.12.7"
  }
 },
 "nbformat": 4,
 "nbformat_minor": 5
}
