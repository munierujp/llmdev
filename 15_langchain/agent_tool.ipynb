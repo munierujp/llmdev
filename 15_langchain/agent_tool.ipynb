{
 "cells": [
  {
   "cell_type": "code",
   "execution_count": 1,
   "id": "aadec813",
   "metadata": {},
   "outputs": [],
   "source": [
    "# 必要なモジュールをインポート\n",
    "import os\n",
    "from dotenv import load_dotenv\n",
    "from langchain_openai import ChatOpenAI\n",
    "\n",
    "# 環境変数の読み込み\n",
    "load_dotenv(\"../.env\")\n",
    "os.environ['OPENAI_API_KEY'] = os.environ['API_KEY']\n",
    "\n",
    "# モデル名\n",
    "MODEL_NAME = \"gpt-4o-mini\""
   ]
  },
  {
   "cell_type": "code",
   "execution_count": 2,
   "id": "8a44c790",
   "metadata": {},
   "outputs": [],
   "source": [
    "# 検索ツールの定義\n",
    "from langchain_community.tools.tavily_search import TavilySearchResults\n",
    "\n",
    "tool = TavilySearchResults(max_results=2)\n",
    "tools = [tool]"
   ]
  },
  {
   "cell_type": "code",
   "execution_count": 3,
   "id": "8cef59e4",
   "metadata": {},
   "outputs": [
    {
     "data": {
      "text/plain": [
       "[{'url': 'https://note.com/hiroshikinoshita/n/n66e621ff6065',\n",
       "  'content': '状態遷移の管理: LangGraphでは、各エージェントの状態を「ノード」として表現し、エージェント間の関係性や処理の流れを「エッジ」で定義します。これにより、複雑な処理を視覚的に整理しやすくなります。\\n\\n   マルチエージェントシステムの構築: LangGraphは、複数のエージェントが協調して動作するシステムの構築を容易にし、業務の効率化や精度向上を実現します。\\n\\n   柔軟なワークフロー設計: ステータス管理を組み合わせることで、動的なタスクの実行や条件に応じた処理の流れを構築できます。\\n\\n基本コンポーネント\\n\\nLangGraphは以下の基本コンポーネントから構成されています:\\n\\n1.   StateGraph: グラフ全体の状態を管理し、ノードとエッジを含むコンストラクションです。\\n\\n2.   Node: 各ステップや処理を実行するための要素。具体的なアクションや計算を行う関数として定義されます。\\n\\n3.   Edge: ノード間の接続を定義し、処理の流れや条件付きの遷移を管理します。\\n\\nLangGraphの使用方法\\n\\n使用方法は以下の通りです: [...] LangGraphは、状態遷移とワークフローの構築をシンプルに実現するPythonライブラリです。基本的な使い方としては、ノード間の依存関係をグラフとして定義し、状態（State）を流れるデータとして扱います。この構造により、複雑なデータの流れを可視化し、管理しやすくなります。特に、LangGraphはLangchainを基盤にしているため、Langchainの各種コンポーネントを活用してより複雑な大規模言語モデル（LLM）アプリケーションを構築することができます。\\n\\nさらに、LangGraphでは一般的なノード作成のほか、条件付きエッジを使用した分岐構造の実装が可能です。これにより、動的なルーティングや処理の流れを実現でき、AIエージェントが必要に応じて異なる処理を選択する柔軟性があります。\\n\\n例えば、Web検索エージェントと社員情報検索エージェントの選択が行えるようなシステムを構成する際に、ユーザーの質問に基づいて適切なエージェントにルーティングすることができます。\\n\\nImage 3: 画像\\n\\n  \\n\\n### 「うちの業務は複雑すぎてAIなんて無理…」 [...] ステートとノードの定義: 各ノードが受け取るステートを定義し、その処理内容を関数として実装します。\\n\\n   エッジの設定: ノード間の接続を設定し、処理の流れを明確にするために順序を決定します。\\n\\n   グラフの実行: 定義したグラフをコンパイルし、状態を引数として実行します。これにより、各ノードの処理が適切に行われます。\\n\\n具体的な例\\n\\n具体的には、次のような使い方が考えられます:\\n\\n1.   ユーザーからの質問を受け取り、それに応じて関連するノードを選択し処理を行う。\\n\\n2.   ワークフローを通じて情報の取得、処理、出力を行い、最終的な結果をユーザーに返す。\\n\\nこのように、LangGraphを使用することで、複雑なエージェント間の連携を容易にし、業務プロセスの効率を向上させることが期待できます。'},\n",
       " {'url': 'https://blog.elcamy.com/posts/136913a3',\n",
       "  'content': 'Copy \\n\\n```\\nfrom langgraph.graph import MessagesState\\n\\nclass State(MessagesState):\\n    documents: list[str]\\n```\\n\\n##### Nodes\\n\\n  \\n\\nLangGraphにおいて、Nodesはエージェントの特定の作業を実行するPython関数（同期または非同期）です。以下の図の赤枠で囲まれた部分がノードを表します。\\n\\nImage 5: image block\\n\\nNodesの最初の引数はStateで、オプションの2番目の引数には設定パラメータを含む辞書型変数が渡されます。\\n\\n具体的にはノードは、以下のようにしてグラフに追加されます。\\n\\n Copy \\n\\n```\\nfrom langchain_core.runnables import RunnableConfig\\nfrom langgraph.graph import StateGraph\\n\\nbuilder = StateGraph(dict)'}]"
      ]
     },
     "execution_count": 3,
     "metadata": {},
     "output_type": "execute_result"
    }
   ],
   "source": [
    "tool.invoke(\"Langgraphのノードとは？\")"
   ]
  },
  {
   "cell_type": "code",
   "execution_count": 7,
   "id": "7da1de52",
   "metadata": {},
   "outputs": [
    {
     "data": {
      "text/plain": [
       "<langgraph.graph.state.StateGraph at 0x11abed640>"
      ]
     },
     "execution_count": 7,
     "metadata": {},
     "output_type": "execute_result"
    }
   ],
   "source": [
    "from typing import Annotated\n",
    "from typing_extensions import TypedDict\n",
    "from langgraph.graph import StateGraph\n",
    "from langgraph.graph.message import add_messages\n",
    "\n",
    "# Stateクラスの定義\n",
    "class State(TypedDict):\n",
    "    messages: Annotated[list, add_messages]\n",
    "\n",
    "# グラフのインスタンスを作成\n",
    "graph_builder = StateGraph(State)\n",
    "\n",
    "# 言語モデルの定義\n",
    "llm = ChatOpenAI(model_name=MODEL_NAME)\n",
    "\n",
    "# 変更点：ツール定義の紐づけ\n",
    "llm_with_tools = llm.bind_tools(tools)\n",
    "\n",
    "# チャットボットノードの作成\n",
    "def chatbot(state: State):\n",
    "    return {\"messages\": [llm_with_tools.invoke(state[\"messages\"])]}\n",
    "\n",
    "# グラフにチャットボットノードを追加\n",
    "graph_builder.add_node(\"chatbot\", chatbot)"
   ]
  },
  {
   "cell_type": "code",
   "execution_count": 8,
   "id": "d14aa621",
   "metadata": {},
   "outputs": [],
   "source": [
    "from langgraph.prebuilt import ToolNode, tools_condition\n",
    "from langgraph.checkpoint.memory import MemorySaver\n",
    "\n",
    "# ツールノードの作成\n",
    "tool_node = ToolNode(tools)\n",
    "\n",
    "# グラフにツールノードを追加\n",
    "graph_builder.add_node(\"tools\", tool_node)\n",
    "\n",
    "# 条件付エッジの作成\n",
    "graph_builder.add_conditional_edges(\n",
    "    \"chatbot\",\n",
    "    tools_condition, # ツール呼出と判断したらツールノードを呼ぶ\n",
    ")\n",
    "\n",
    "# ツールが呼び出されるたびに、チャットボットに戻って次のステップを決定\n",
    "# ツールからチャットボットへの戻りエッジを作成\n",
    "graph_builder.add_edge(\"tools\", \"chatbot\")\n",
    "\n",
    "# 開始ノードの指定\n",
    "graph_builder.set_entry_point(\"chatbot\")\n",
    "\n",
    "# 記憶を持つ実行可能なステートグラフの作成\n",
    "memory = MemorySaver()\n",
    "graph = graph_builder.compile(checkpointer=memory)"
   ]
  },
  {
   "cell_type": "code",
   "execution_count": 9,
   "id": "666fe43e",
   "metadata": {},
   "outputs": [
    {
     "data": {
      "image/png": "[encoded data removed]",
      "text/plain": [
       "<IPython.core.display.Image object>"
      ]
     },
     "metadata": {},
     "output_type": "display_data"
    }
   ],
   "source": [
    "# グラフの可視化\n",
    "from IPython.display import Image, display\n",
    "\n",
    "display(Image(graph.get_graph().draw_mermaid_png()))"
   ]
  },
  {
   "cell_type": "code",
   "execution_count": 10,
   "id": "d360da70",
   "metadata": {},
   "outputs": [
    {
     "name": "stdout",
     "output_type": "stream",
     "text": [
      "こんにちは！\n",
      "こんにちは！今日はどんなことをお手伝いできますか？\n",
      "1足す2は？\n",
      "1足す2は3です。何か他に知りたいことがありますか？\n",
      "1メートル以上の魚は？\n",
      "\n",
      "[{\"url\": \"https://tsurihack.com/8448\", \"content\": \"どの魚も、陸っぱりで狙えて最大全長が1mを超えるものばかり！\\n\\nお住まいの地域にこれからリストアップする魚が生息していたら、狙ってみてはいかがでしょうか。\\n\\n鯉｜もっとも手軽で簡単な大物\\n\\n難易度：★☆☆｜平均70cm、1m超えれば超絶レア\\n魚釣り初心者の方にオススメしたいのは食パンを使ったコイ釣りです！\\n\\n安・近・短で手軽に釣ることができ、ボウズ（釣果ゼロ）で終わってしまうリスクも少ないのがパンコイゲームの魅力ですね。\\n\\n▼食パンを使ったコイの釣り方はこちら！\\n針と餌だけのカンタン仕掛けで巨大魚が釣れる！？“パン鯉”に子供と挑戦してみました2023/04/27釣り好き！まっちゃん\\n\\n針と餌だけのカンタン仕掛けで巨大魚が釣れる！？“パン鯉”に子供と挑戦してみました\\n\\n2023/04/27釣り好き！まっちゃん\\n\\n1mを超えるコイは超絶レアですよ！\\n\\n身近な川魚のコイといえども最大サイズは1ｍを優に超え、コイを専門に狙う釣り人にとってメーター超えの巨鯉は一生に1匹でも良いから釣ってみたい憧れのサイズです。 [...] 最大で1mに迫るような大物を釣り狙う場合、例え身近な魚であっても釣り具の強度や仕掛け、ルアーの種類などをしっかり選ぶ必要があります。\\n\\n『この魚を釣ってみたい！』という確固たる目標を持って挑戦していく過程が大物釣り最大の醍醐味であり、準備や試行錯誤の期間が長い程、目標を手にした瞬間、つまり大物を釣り上げた瞬間の感動と達成感はなんとも言葉に表すことができないものになってきます。\\n\\n全身が震えたり、感情を抑えられず雄たけびやガッツポーズが出ちゃったりする……そんな体験を大人になっても味わえる。それが魚釣りの良い所だと僕は思っています。\\n\\n大物を釣り上げるまでの3ステップをお伝えします\\n\\nどんな大物を釣りたいか決めましょう\\n\\nまずは、自分の目標とする魚を設定しましょう。魚種でも良いですし、この魚の何センチ以上！　とかでも素敵な目標だと思います。\\n\\n他人に認められる魚とか、SNSでイイネをたくさんもらえそうな魚とかでも良いかもしれませんが、大切なのは、“自分が釣ってみたい魚や大きさ”を意識すること。\\n\\n僕はいつも、自分の好奇心と探求心を一番大切にするように心がけています。 [...] 魚の力強さを体感できる\\n\\n大物釣りの魅力のひとつに、魚達の力強さを一本の釣り糸を通して体感できることがあります。\\n\\nとくに1m、10kgを超えるような魚の重量感溢れるファイトで、身体が引っ張られるような感覚を一度味わうと病みつきになってしまいます。\\n\\nもちろん、魚の引きの強度やランディングに至るまでの難易度は魚種によってさまざま。今回の記事では、難易度別に魅力的な大物をご紹介していきます。\\n\\nまずは、僕が思う大物釣りの魅力からお届けします！\\n\\n迫力満点な写真が撮れます\\n\\n釣り上げた魚を抱えて撮る、記念写真も大物釣りの醍醐味のひとつと言えるでしょう。\\n\\n自分なりに苦労したり試行錯誤して釣り上げた大物の写真って、時間が経っても見返したくなるものです。\\n\\n時には魚体が大きすぎて陸に揚げられず、自ら水中に入って写真を撮るなんてこともよくあります。\\n\\n大物を狙っていると、“イッピキの価値に気が付くキッカケになり、釣り上げた魚を大切に扱いたい”と価値観が変わることもありますよ。\\n\\n“目標を持った魚釣りの魅力”をお伝えしたい\"}, {\"url\": \"https://kamigame.jp/natsumon/page/274866979691603850.html\", \"content\": \"### 座敷わらしで使う\\n\\nImage 28: 座敷わらしで使う\\n\\nサクラマスやマダコなどの特定の魚は、座敷わらしと遊ぶために必要だ。釣った魚は、用途が不明でも捨てずに獲っておこう。\\n\\n座敷わらしの場所マップ｜全30箇所掲載！\\n\\n### 博物館に展示する\\n\\nImage 29\\n\\nImage 30\\n\\n博物館の地図\\n\\n| 珍しい魚一覧 |\\n\\n| 1m以上のブリ |\\n| 50cm以上のホウボウ |\\n| アカナマダ |\\n\\n珍しい魚は、博物館に展示できる。「1m以上のブリ」「50cm以上のホウボウ」「アカナマダ」を見つけた際は、博物館に持って行って展示してもらおう。\\n\\n珍しいサカナを集めよう！の進め方と報酬\\n\\n人気記事ランキング\\n\\n1珍しい魚の場所\\n2大きな冒険一覧\\n3座敷わらしの場所マップ\\n4天狗の秘宝の入手場所\\n5てっぺんをめざせ！の進め方\\n6釣りをするコツ\\n7珍しい虫の場所マップ\\n8不思議な城のナゾを解け！の進め方\\n9魚の生息場所一覧\\n10初心者必見！1日の進め方\\n\\n攻略班おすすめ記事\"}]\n",
      "1メートル以上の魚には、以下のようなものがあります：\n",
      "\n",
      "1. **鯉 (コイ)** - 平均的には70cmですが、1メートルを超えるサイズも存在します。釣り初心者にもオススメの魚です。\n",
      "\n",
      "2. **ブリ** - 1メートル以上になることがある珍しい魚で、博物館に展示できるサイズです。\n",
      "\n",
      "3. **サクラマス**や**マダコ** - 特定の用途で釣りの対象になりますが、1メートル以上になることがあります。\n",
      "\n",
      "興味のある魚についてもっと詳しく知りたい場合は、こちらのリンクを参考にしてください：\n",
      "- [鯉についての詳細](https://tsurihack.com/8448)\n",
      "- [博物館に展示する魚](https://kamigame.jp/natsumon/page/274866979691603850.html)\n",
      "\n",
      "他にも知りたいことがあれば教えてください！\n",
      "ありがとうございました!\n"
     ]
    }
   ],
   "source": [
    "# グラフの実行と結果の表示\n",
    "def stream_graph_updates(user_input: str):\n",
    "    events = graph.stream(\n",
    "        {\"messages\": [(\"user\", user_input)]},\n",
    "        {\"configurable\": {\"thread_id\": \"1\"}},\n",
    "        stream_mode=\"values\")\n",
    "    # 結果をストリーミングで得る\n",
    "    for event in events:\n",
    "        print(event[\"messages\"][-1].content, flush=True)\n",
    "\n",
    "# チャットボットのループ\n",
    "while True:\n",
    "    user_input = input(\"質問:\")\n",
    "    if user_input.strip()==\"\":\n",
    "        print(\"ありがとうございました!\")\n",
    "        break\n",
    "    stream_graph_updates(user_input)"
   ]
  }
 ],
 "metadata": {
  "kernelspec": {
   "display_name": ".venv",
   "language": "python",
   "name": "python3"
  },
  "language_info": {
   "codemirror_mode": {
    "name": "ipython",
    "version": 3
   },
   "file_extension": ".py",
   "mimetype": "text/x-python",
   "name": "python",
   "nbconvert_exporter": "python",
   "pygments_lexer": "ipython3",
   "version": "3.12.7"
  }
 },
 "nbformat": 4,
 "nbformat_minor": 5
}
