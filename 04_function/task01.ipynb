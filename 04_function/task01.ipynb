{
 "cells": [
  {
   "cell_type": "markdown",
   "id": "8e1f99f9",
   "metadata": {},
   "source": [
    "# ユーザー名のバリデーション（検証）\n",
    "\n",
    "ECサイトのユーザーアカウント登録などには、所定のルールに従ったユーザー名のバリデーション（検証）が実装されています。ここでは、不正なユーザー名が入力されたらエラーを表示する、ユーザー名バリデーションの関数を作成してみましょう。\n",
    "\n",
    "`04_function` フォルダの中に `task01.ipynb` というノートブックを作成し、以下の仕様を満たすプログラムを記述してください。\n",
    "\n",
    "## 仕様\n",
    "\n",
    "### 関数の仕様：\n",
    "\n",
    "- 文字列を受け取り、バリデーションの結果をブール値で返す関数を作成してください。\n",
    "- バリデーションのルールは以下です：\n",
    "  - ユーザー名は5文字以上15文字以内。条件を満たさない場合は  \n",
    "    `エラー: ユーザー名は5文字以上15文字以内で入力してください` と表示して `False` を返す\n",
    "  - ユーザー名に空白は使えない。含まれている場合は  \n",
    "    `エラー: ユーザー名に空白を含めることはできません` と表示して `False` を返す\n",
    "  - ユーザー名は英数字（アルファベットと数字）のみ使用可能。それ以外の文字が含まれている場合は  \n",
    "    `エラー: ユーザー名は英数字のみ使用できます` と表示して `False` を返す\n",
    "- すべての条件を満たす場合は `True` を返す（※成功メッセージは表示しない）\n",
    "\n",
    "### 呼び出し側の仕様：\n",
    "\n",
    "- ユーザーにユーザー名を入力させ、そのユーザー名が適切かを、上記のバリデーション関数で判定させてください。\n",
    "- バリデーションの結果、条件を満たしていたら  \n",
    "  `ユーザー名は有効です` と表示  \n",
    "  そうでなければ  \n",
    "  `不正なユーザー名です` と表示\n",
    "\n",
    "## 解き方のヒント\n",
    "\n",
    "- 文字数の長さは `len()` 関数が使えます  \n",
    "- 文字列に空白が含まれているかどうかは `\" \" in 文字列` で判断できます  \n",
    "- 文字列が英数字のみかどうかを判定するには `.isalnum()` メソッドが使えます  \n",
    "  - [Python - 文字列メソッド - isalnum](https://docs.python.org/ja/3/library/stdtypes.html#str.isalnum)\n",
    "\n",
    "## 実行結果の例：\n",
    "\n",
    "**ユーザー名を `JohnDoe123` と入力した場合**\n",
    "\n",
    "```\n",
    "ユーザー名は有効です\n",
    "```\n",
    "\n",
    "**ユーザー名を `JD` と入力した場合**\n",
    "\n",
    "```\n",
    "エラー: ユーザー名は5文字以上15文字以内で入力してください  \n",
    "不正なユーザー名です\n",
    "```\n",
    "\n",
    "**ユーザー名を `John@Doe` と入力した場合**\n",
    "\n",
    "```\n",
    "エラー: ユーザー名は英数字のみ使用できます  \n",
    "不正なユーザー名です\n",
    "```\n",
    "\n",
    "**ユーザー名を `John Doe` と入力した場合**\n",
    "\n",
    "```\n",
    "エラー: ユーザー名に空白を含めることはできません  \n",
    "不正なユーザー名です\n",
    "```"
   ]
  },
  {
   "cell_type": "markdown",
   "id": "efc7d936",
   "metadata": {},
   "source": [
    "## 回答"
   ]
  },
  {
   "cell_type": "code",
   "execution_count": null,
   "id": "01be01aa",
   "metadata": {},
   "outputs": [],
   "source": [
    "import re\n",
    "\n",
    "def validate(user_name: str) -> bool:\n",
    "  \"\"\"\n",
    "  ユーザー名のバリデーションをおこなう\n",
    "  \"\"\"\n",
    "  if not (5 <= len(user_name) <= 15):\n",
    "    print(\"エラー: ユーザー名は5文字以上15文字以内で入力してください\")\n",
    "    return False\n",
    "  if \" \" in user_name:\n",
    "    print(\"エラー: ユーザー名に空白を含めることはできません\")\n",
    "    return False\n",
    "  # isalnum だと \"勇者ああああ\" や \"一二三四五\" のような文字列も True になってしまうので正規表現を使用\n",
    "  if not re.fullmatch(r\"[A-Za-z0-9]+\", user_name):\n",
    "    print(\"エラー: ユーザー名は英数字のみ使用できます\")\n",
    "    return False\n",
    "  return True"
   ]
  },
  {
   "cell_type": "code",
   "execution_count": 31,
   "id": "a65de13c",
   "metadata": {},
   "outputs": [
    {
     "name": "stdout",
     "output_type": "stream",
     "text": [
      "ユーザー名は有効です\n"
     ]
    }
   ],
   "source": [
    "user_name = input(\"ユーザー名を入力してください: \")\n",
    "if validate(user_name):\n",
    "  print(\"ユーザー名は有効です\")\n",
    "else:\n",
    "  print(\"不正なユーザー名です\")"
   ]
  },
  {
   "cell_type": "markdown",
   "id": "c066d752",
   "metadata": {},
   "source": [
    "## テスト"
   ]
  },
  {
   "cell_type": "code",
   "execution_count": null,
   "id": "62e096c9",
   "metadata": {},
   "outputs": [
    {
     "name": "stdout",
     "output_type": "stream",
     "text": [
      "エラー: ユーザー名は5文字以上15文字以内で入力してください\n",
      "エラー: ユーザー名は英数字のみ使用できます\n",
      "エラー: ユーザー名に空白を含めることはできません\n",
      "エラー: ユーザー名は5文字以上15文字以内で入力してください\n",
      "エラー: ユーザー名は5文字以上15文字以内で入力してください\n"
     ]
    },
    {
     "ename": "AssertionError",
     "evalue": "",
     "output_type": "error",
     "traceback": [
      "\u001b[31m---------------------------------------------------------------------------\u001b[39m",
      "\u001b[31mAssertionError\u001b[39m                            Traceback (most recent call last)",
      "\u001b[36mCell\u001b[39m\u001b[36m \u001b[39m\u001b[32mIn[39]\u001b[39m\u001b[32m, line 11\u001b[39m\n\u001b[32m      9\u001b[39m \u001b[38;5;28;01massert\u001b[39;00m validate(\u001b[33m\"\u001b[39m\u001b[33m1234567890123456\u001b[39m\u001b[33m\"\u001b[39m) == \u001b[38;5;28;01mFalse\u001b[39;00m\n\u001b[32m     10\u001b[39m \u001b[38;5;66;03m# assert validate(\"勇者ああああ\") == False\u001b[39;00m\n\u001b[32m---> \u001b[39m\u001b[32m11\u001b[39m \u001b[38;5;28;01massert\u001b[39;00m validate(\u001b[33m\"\u001b[39m\u001b[33m一二三四五\u001b[39m\u001b[33m\"\u001b[39m) == \u001b[38;5;28;01mFalse\u001b[39;00m\n",
      "\u001b[31mAssertionError\u001b[39m: "
     ]
    }
   ],
   "source": [
    "assert validate(\"JohnDoe123\") == True\n",
    "assert validate(\"JD\") == False\n",
    "assert validate(\"John@Doe\") == False\n",
    "assert validate(\"John Doe\") == False\n",
    "\n",
    "assert validate(\"1234\") == False\n",
    "assert validate(\"12345\") == True\n",
    "assert validate(\"123456789012345\") == True\n",
    "assert validate(\"1234567890123456\") == False\n",
    "assert validate(\"勇者ああああ\") == False\n",
    "assert validate(\"一二三四五\") == False"
   ]
  }
 ],
 "metadata": {
  "kernelspec": {
   "display_name": ".venv",
   "language": "python",
   "name": "python3"
  },
  "language_info": {
   "codemirror_mode": {
    "name": "ipython",
    "version": 3
   },
   "file_extension": ".py",
   "mimetype": "text/x-python",
   "name": "python",
   "nbconvert_exporter": "python",
   "pygments_lexer": "ipython3",
   "version": "3.12.7"
  }
 },
 "nbformat": 4,
 "nbformat_minor": 5
}
