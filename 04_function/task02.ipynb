{
 "cells": [
  {
   "cell_type": "markdown",
   "id": "1d40abed",
   "metadata": {},
   "source": [
    "# URLコンテンツの保存\n",
    "\n",
    "ウェブサイト上の情報をプログラムで自動的に取得、情報を抽出する技術を **スクレイピング** と呼びます。スクレイピングは現代の情報収集の手段として、広く活用されています。ここでは、簡単なスクレイピングとして、Webページのコンテンツを取得し、ファイルに保存するプログラムを作成してみましょう。\n",
    "\n",
    "`04_function` フォルダの中に `task02.ipynb` というノートブックを作成し、以下の仕様を満たすプログラムを記述してください。\n",
    "\n",
    "## 仕様\n",
    "\n",
    "### 関数の仕様\n",
    "\n",
    "- URLを引数として受け取り、Webページのコンテンツの先頭500文字を日時のファイル名で保存し、ファイル名を戻り値として返す `save_url_content()` 関数を作成してください。\n",
    "- 指定したURLからデータを取得し、UTF-8形式でデコードしてから先頭500文字を取得します。\n",
    "- 保存するファイル名は現在の日時（例: `20241030_155221.txt`）とし、`.txt` 拡張子で保存してください。\n",
    "- データを取得したファイルへ保存するために、Pythonの標準ライブラリ `datetime` モジュールを使って日時をファイル名に含めてください。\n",
    "- 作成されたファイル名を関数の戻り値として返してください。\n",
    "\n",
    "### 呼び出し側の仕様\n",
    "\n",
    "以下のソースコードで関数を呼び出して確認してください。\n",
    "\n",
    "```python\n",
    "url = input(\"URLを入力してください: \")\n",
    "file_name = save_url_content(url)\n",
    "print(f\"Content saved in: {file_name}\")\n",
    "```\n",
    "\n",
    "## 解き方のヒント\n",
    "\n",
    "- 指定したURLのHTMLコンテンツの先頭500文字を取得し、保存するには、`urllib.request.urlopen()` を使うと便利です。データは `.decode(\"utf-8\")` で文字列に変換してから保存しましょう（このレッスンの「標準ライブラリの活用」を参考にしましょう）。  \n",
    "  - [Python - urllib.request モジュール - urlopen](https://docs.python.org/ja/3/library/urllib.request.html#urllib.request.urlopen)\n",
    "- ファイルへの保存はレッスン3を参考にしましょう。\n",
    "\n",
    "## 実行結果の例\n",
    "\n",
    "**URLを `https://techacademy.jp` と入力した場合**\n",
    "\n",
    "```\n",
    "Content saved in: 20241030_155221.txt\n",
    "```\n",
    "\n",
    "**保存されたファイルの内容（例）**\n",
    "\n",
    "```html\n",
    "<!doctype html>\n",
    "<html data-n-head-ssr lang=\"ja\" data-n-head=\"%7B%22lang%22:%7B%22ssr%22:%22ja%22%7D%7D\">\n",
    "  <head>\n",
    "    <meta data-n-head=\"ssr\" charset=\"utf-8\">\n",
    "    <meta data-n-head=\"ssr\" name=\"viewport\" content=\"width=device-width,initial-scale=1\">\n",
    "    <meta data-n-head=\"ssr\" data-hid=\"keywords\" name=\"keywords\" content=\"プログラミング, ブートキャンプ, エンジニア, ruby on rails, パーソナルメンター\">\n",
    "    <meta data-n-head=\"ssr\" data-hid=\"description\" name=\"description\" content=\"【テックアカデミー(TechAcademy)】受講者数No.1のオンラインプログラミングスクール。通過率10%を突破した現役...\n",
    "```"
   ]
  },
  {
   "cell_type": "markdown",
   "id": "213267e6",
   "metadata": {},
   "source": [
    "## 回答"
   ]
  },
  {
   "cell_type": "code",
   "execution_count": 7,
   "id": "8f3424f9",
   "metadata": {},
   "outputs": [],
   "source": [
    "from urllib import request\n",
    "from datetime import datetime\n",
    "\n",
    "def save_url_content(url: str) -> str:\n",
    "  \"\"\"指定したURLからデータを取得し、先頭500文字を日時のファイル名で保存する\"\"\"\n",
    "  resp = request.urlopen(url)\n",
    "  body = resp.read().decode('utf-8')\n",
    "  data = body[:500]\n",
    "  ts = datetime.now().strftime('%Y%m%d_%H%M%S')\n",
    "  file_name = f\"{ts}.txt\"\n",
    "  \n",
    "  with open(file_name, 'w', encoding='utf-8') as file:\n",
    "    file.write(data)\n",
    "\n",
    "  return file_name"
   ]
  },
  {
   "cell_type": "code",
   "execution_count": 8,
   "id": "7ad3ae8f",
   "metadata": {},
   "outputs": [
    {
     "name": "stdout",
     "output_type": "stream",
     "text": [
      "Content saved in: 20250820_174255.txt\n"
     ]
    }
   ],
   "source": [
    "url = input(\"URLを入力してください: \")\n",
    "file_name = save_url_content(url)\n",
    "print(f\"Content saved in: {file_name}\")"
   ]
  }
 ],
 "metadata": {
  "kernelspec": {
   "display_name": ".venv",
   "language": "python",
   "name": "python3"
  },
  "language_info": {
   "codemirror_mode": {
    "name": "ipython",
    "version": 3
   },
   "file_extension": ".py",
   "mimetype": "text/x-python",
   "name": "python",
   "nbconvert_exporter": "python",
   "pygments_lexer": "ipython3",
   "version": "3.12.7"
  }
 },
 "nbformat": 4,
 "nbformat_minor": 5
}
