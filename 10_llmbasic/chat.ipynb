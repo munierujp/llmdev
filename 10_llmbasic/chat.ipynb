{
 "cells": [
  {
   "cell_type": "code",
   "execution_count": 1,
   "id": "5118631c",
   "metadata": {},
   "outputs": [],
   "source": [
    "# 必要なモジュールをインポート\n",
    "import os\n",
    "from dotenv import load_dotenv\n",
    "from openai import OpenAI\n",
    "from pprint import pprint\n",
    "\n",
    "# 環境変数の取得\n",
    "load_dotenv(\"../.env\")\n",
    "\n",
    "# OpenAI APIクライアントを生成\n",
    "client = OpenAI(api_key=os.environ['API_KEY'])\n",
    "\n",
    "# モデル名\n",
    "MODEL_NAME = \"gpt-4o-mini\""
   ]
  },
  {
   "cell_type": "code",
   "execution_count": 2,
   "id": "d924f977",
   "metadata": {},
   "outputs": [
    {
     "name": "stdout",
     "output_type": "stream",
     "text": [
      "{'_request_id': 'req_02eabe7a75f64fdb9c2333d772577637',\n",
      " 'choices': [Choice(finish_reason='stop', index=0, logprobs=None, message=ChatCompletionMessage(content='言語モデルを使う上でのポイントはいくつかあります。以下に重要な点を挙げます。\\n\\n1. **目的の明確化**: まず、言語モデルを使う目的を明確にしましょう。テキスト生成、要約、質問応答、翻訳など、用途によって最適な使い方が異なります。\\n\\n2. **入力の工夫**: 入力するプロンプト（指示や質問）の内容が、生成される出力に大きな影響を与えます。明確かつ具体的な指示を提供することが望ましいです。\\n\\n3. **出力の評価**: 生成されたテキストの品質を評価するための基準を持ちましょう。正確性、一貫性、流暢さなど、評価ポイントを定めると良いです。\\n\\n4. **フィードバックの活用**: モデルから得られた出力に基づいてフィードバックを行い、必要に応じてプロンプトやハイパーパラメータを調整することで、結果を改善できます。\\n\\n5. **倫理的配慮**: 言語モデルは偏見や誤情報を含むことがあります。出力内容に注意し、倫理的な観点から問題がないか確認することが重要です。\\n\\n6. **限界の理解**: 言語モデルには限界があり、常に正確な情報を提供できるわけではありません。そのため、特に重要な情報については他の信頼できる情報源と照らし合わせることが推奨されます。\\n\\n7. **データのプライバシー**: ユーザー情報や機密データを扱う際には、プライバシーやデータ保護に関する規制を遵守することが重要です。\\n\\n8. **継続的な学習**: 言語モデルに関する最新の研究や技術を追いかけ、活用方法を更新していくことが、効果的な利用に繋がります。\\n\\nこれらのポイントを考慮することで、言語モデルをより効果的に活用できるでしょう。', refusal=None, role='assistant', audio=None, function_call=None, tool_calls=None, annotations=[]))],\n",
      " 'created': 1756439703,\n",
      " 'id': 'chatcmpl-C9kUZoSgUZAeo8IexO04AiN1n22qO',\n",
      " 'model': 'gpt-4o-mini-2024-07-18',\n",
      " 'object': 'chat.completion',\n",
      " 'service_tier': 'default',\n",
      " 'system_fingerprint': 'fp_560af6e559',\n",
      " 'usage': CompletionUsage(completion_tokens=504, prompt_tokens=18, total_tokens=522, completion_tokens_details=CompletionTokensDetails(accepted_prediction_tokens=0, audio_tokens=0, reasoning_tokens=0, rejected_prediction_tokens=0), prompt_tokens_details=PromptTokensDetails(audio_tokens=0, cached_tokens=0))}\n"
     ]
    }
   ],
   "source": [
    "# メッセージの設定\n",
    "message = \"言語モデルを使う上でのポイントは\"\n",
    "\n",
    "# APIへリクエスト\n",
    "response = client.chat.completions.create(\n",
    "    model=MODEL_NAME,\n",
    "    messages=[\n",
    "        {\"role\": \"user\", \"content\": message},\n",
    "    ]\n",
    ")\n",
    "\n",
    "# レスポンスの表示\n",
    "pprint(vars(response))"
   ]
  },
  {
   "cell_type": "code",
   "execution_count": 3,
   "id": "5c7df818",
   "metadata": {},
   "outputs": [
    {
     "name": "stdout",
     "output_type": "stream",
     "text": [
      "言語モデルを使う上でのポイントはいくつかあります。以下に重要な点を挙げます。\n",
      "\n",
      "1. **目的の明確化**: まず、言語モデルを使う目的を明確にしましょう。テキスト生成、要約、質問応答、翻訳など、用途によって最適な使い方が異なります。\n",
      "\n",
      "2. **入力の工夫**: 入力するプロンプト（指示や質問）の内容が、生成される出力に大きな影響を与えます。明確かつ具体的な指示を提供することが望ましいです。\n",
      "\n",
      "3. **出力の評価**: 生成されたテキストの品質を評価するための基準を持ちましょう。正確性、一貫性、流暢さなど、評価ポイントを定めると良いです。\n",
      "\n",
      "4. **フィードバックの活用**: モデルから得られた出力に基づいてフィードバックを行い、必要に応じてプロンプトやハイパーパラメータを調整することで、結果を改善できます。\n",
      "\n",
      "5. **倫理的配慮**: 言語モデルは偏見や誤情報を含むことがあります。出力内容に注意し、倫理的な観点から問題がないか確認することが重要です。\n",
      "\n",
      "6. **限界の理解**: 言語モデルには限界があり、常に正確な情報を提供できるわけではありません。そのため、特に重要な情報については他の信頼できる情報源と照らし合わせることが推奨されます。\n",
      "\n",
      "7. **データのプライバシー**: ユーザー情報や機密データを扱う際には、プライバシーやデータ保護に関する規制を遵守することが重要です。\n",
      "\n",
      "8. **継続的な学習**: 言語モデルに関する最新の研究や技術を追いかけ、活用方法を更新していくことが、効果的な利用に繋がります。\n",
      "\n",
      "これらのポイントを考慮することで、言語モデルをより効果的に活用できるでしょう。\n"
     ]
    }
   ],
   "source": [
    "# 言語モデルからの回答を表示\n",
    "print(response.choices[0].message.content.strip())"
   ]
  },
  {
   "cell_type": "code",
   "execution_count": 4,
   "id": "3343f2b7",
   "metadata": {},
   "outputs": [
    {
     "name": "stdout",
     "output_type": "stream",
     "text": [
      "新製品の発売に向けた効果的なマーケティング戦略には、以下のステップが重要です。\n",
      "\n",
      "### 1. 市場調査\n",
      "- **ターゲット市場の特定**: 新製品がどの顧客層に向けられているのかを明確にします。\n",
      "- **競合分析**: 競合他社の製品やマーケティング戦略を調査し、自社の優位性を見つけます。\n",
      "\n",
      "### 2. 製品のポジショニング\n",
      "- **ユニークバリュープロポジション（UVP）の明確化**: 製品の特長とその利点を整理し、顧客が選ぶ理由を示します。\n",
      "- **ブランドストーリーの構築**: 製品に関連する物語を作成し、顧客との感情的なつながりを深めます。\n",
      "\n",
      "### 3. マーケティングミックスの設定\n",
      "- **製品（Product）**: 製品の特長、デザイン、パッケージング。\n",
      "- **価格（Price）**: 競争力のある価格設定と割引戦略を策定。\n",
      "- **場所（Place）**: 販売チャネルと流通戦略（オンライン、オフライン、直販など）。\n",
      "- **プロモーション（Promotion）**: SNS、メールマーケティング、PR活動を利用。\n",
      "\n",
      "### 4. プロモーション戦略\n",
      "- **ティーザーキャンペーン**: 新製品の情報を徐々に発信し、期待感を高めます。\n",
      "- **インフルエンサーとのコラボレーション**: 業界のインフルエンサーと協力し、製品を広めます。\n",
      "- **プロモーションイベント**: 発売前後にイベントやワークショップを行い、直接顧客と接点を持ちます。\n",
      "\n",
      "### 5. デジタルマーケティングの活用\n",
      "- **SNS広告**: ターゲットに応じた広告を設定し、利便性を高めます。\n",
      "- **SEO施策**: 自社サイトのSEO対策を行い、オーガニックトラフィックを増加させます。\n",
      "- **コンテンツマーケティング**: 製品に関連する有用なコンテンツを作成し、ブランド認知を高めます。\n",
      "\n",
      "### 6. 客からのフィードバックの収集\n",
      "- **テストマーケティング**: 限定的に製品を提供し、市場からの反応を確認し、調整を行います。\n",
      "- **フィードバックループの構築**: 発売後も顧客からの意見を取り入れ、製品改善やマーケティング戦略の見直しを行います。\n",
      "\n",
      "### 7. 成果の分析と改善\n",
      "- **KPIの設定**: 売上、顧客獲得コスト、リピート購入率などの指標を追跡します。\n",
      "- **定期的なレビュー**: マーケティング活動の効果を評価し、改善策を講じるためのレビューを実施します。\n",
      "\n",
      "これらのステップを踏むことで、新製品の発売を成功に導くための効果的かつ包括的なマーケティング戦略を構築できます。\n"
     ]
    }
   ],
   "source": [
    "# 役割や前提の設定\n",
    "role = \"あなたはマーケティング分野に精通したビジネスコンサルタントです。企業の成長をサポートするために、効果的なマーケティング戦略を提供します。\"\n",
    "\n",
    "# メッセージの設定\n",
    "message = \"新製品の発売に向けた効果的なマーケティング戦略を教えてください。\"\n",
    "\n",
    "# APIへリクエスト\n",
    "response = client.chat.completions.create(\n",
    "    model=MODEL_NAME,\n",
    "    messages=[\n",
    "        {\"role\": \"system\", \"content\": role},\n",
    "        {\"role\": \"user\", \"content\": message},\n",
    "    ],\n",
    ")\n",
    "\n",
    "# 言語モデルからの回答を表示\n",
    "print(response.choices[0].message.content.strip())"
   ]
  },
  {
   "cell_type": "code",
   "execution_count": 5,
   "id": "6b0b76c8",
   "metadata": {},
   "outputs": [
    {
     "name": "stdout",
     "output_type": "stream",
     "text": [
      "--------------------\n",
      "もちろんです！日本はその独特な文化、歴史、美しい風景などで非常に魅力的な国です。以下は日本のいくつかの魅力をご紹介します。\n",
      "\n",
      "### 1. 文化と伝統\n",
      "- **お祭りや行事**: 各地で行われる様々なお祭り（例：盛岡さんさ盆踊り、青森ねぶた祭り）や、伝統的\n",
      "--------------------\n",
      "日本には多くの魅力がありますので、いくつか紹介しますね。\n",
      "\n",
      "1. **文化と歴史**: 日本は長い歴史を持ち、古代から現代まで多くの文化遺産や伝統が存在します。神社やお寺、城などの歴史的建物を巡るのはとても楽しいです。また、京都の伝統やお祭りなど、地域ごとの独自の文化\n",
      "--------------------\n",
      "日本は多数の魅力を持つ国で、異なる文化、歴史、自然などが融合しています。以下にいくつかの観点から日本の魅力をご紹介します。\n",
      "\n",
      "### 1. 自然の美\n",
      "日本は多様な自然景観があります。桜の名所である春の鶴見、夏の富士山、秋の紅葉、冬の雪景色など、四季折々の美\n"
     ]
    }
   ],
   "source": [
    "# 出力の多様性\n",
    "message = \"日本の魅力を紹介して！\"\n",
    "\n",
    "# APIへリクエスト\n",
    "response = client.chat.completions.create(\n",
    "    model=MODEL_NAME,\n",
    "    messages=[\n",
    "        {\"role\": \"user\", \"content\": message},\n",
    "    ],\n",
    "    temperature=1.4,\n",
    "    n = 3, # 3回答を得る\n",
    "    max_completion_tokens = 100 # 出力トークン長を制限\n",
    ")\n",
    "\n",
    "# 結果を表示（複数回答を比較）\n",
    "for choice in response.choices:\n",
    "    print(\"-\" * 20)\n",
    "    print(choice.message.content.strip())"
   ]
  },
  {
   "cell_type": "code",
   "execution_count": 6,
   "id": "43747bf7",
   "metadata": {},
   "outputs": [
    {
     "name": "stdout",
     "output_type": "stream",
     "text": [
      "--------------------\n",
      "もちろんです！日本には多くの魅力がありますので、いくつかのポイントを紹介します。\n",
      "\n",
      "### 1. 文化と伝統\n",
      "日本は古い歴史を持ち、伝統的な文化が色濃く残っています。茶道、花道、武道など、さまざまな伝統芸能や習慣があります。また、神社や寺院、城などの歴史的な建造物も多\n",
      "--------------------\n",
      "もちろんです！日本は多様な文化、歴史、自然、美食などが魅力的な国です。以下にいくつかのポイントを紹介します。\n",
      "\n",
      "### 1. 文化と伝統\n",
      "- **祭り**: 日本各地で行われる伝統的な祭り（例：祇園祭、ねぶた祭り）は、地域の文化や歴史を感じることができます。\n",
      "- **茶道**:\n",
      "--------------------\n",
      "もちろんです！日本は多様な文化、歴史、自然、美食などが魅力的な国です。以下にいくつかのポイントを紹介します。\n",
      "\n",
      "### 1. 文化と伝統\n",
      "- **祭り**: 日本各地で行われる伝統的な祭り（例：祇園祭、ねぶた祭り）は、地域の文化や歴史を感じることができます。\n",
      "- **茶道**:\n"
     ]
    }
   ],
   "source": [
    "# 出力の多様性\n",
    "message = \"日本の魅力を紹介して！\"\n",
    "\n",
    "# APIへリクエスト\n",
    "response = client.chat.completions.create(\n",
    "    model=MODEL_NAME,\n",
    "    messages=[\n",
    "        {\"role\": \"user\", \"content\": message},\n",
    "    ],\n",
    "    temperature=0.0,\n",
    "    n = 3, # 3回答を得る\n",
    "    max_completion_tokens = 100 # 出力トークン長を制限\n",
    ")\n",
    "\n",
    "# 結果を表示（複数回答を比較）\n",
    "for choice in response.choices:\n",
    "    print(\"-\" * 20)\n",
    "    print(choice.message.content.strip())"
   ]
  },
  {
   "cell_type": "code",
   "execution_count": 7,
   "id": "11f04042",
   "metadata": {},
   "outputs": [
    {
     "name": "stdout",
     "output_type": "stream",
     "text": [
      "--------------------\n",
      "もちろん、日本には多くの魅力があります。以下はその一部を紹介します。\n",
      "\n",
      "### 1. 文化と歴史\n",
      "日本は古くからの伝統と近代的な文化が共存する国です。神社やお寺、城などの歴史的な建造物が多く、特に京都や奈良はその代表です。また、和服や伝統的な茶道、華道、武道などが今\n",
      "--------------------\n",
      "もちろんです！日本には多くの魅力がありますので、いくつかのポイントを紹介しますね。\n",
      "\n",
      "1. **文化と伝統**: 日本は豊かな文化と伝統を持っています。茶道、花道、武道、着物、節句など、古くからの伝統が今も受け継がれています。特に、四季折々の行事や祭りも魅力的です。\n",
      "\n",
      "2. **\n",
      "--------------------\n",
      "もちろん、日本の魅力は多岐にわたります！以下にいくつかのポイントを紹介します。\n",
      "\n",
      "### 1. 美しい自然\n",
      "日本は四季がはっきりしており、それぞれの季節に美しい自然が楽しめます。春の桜、夏の海、秋の紅葉、冬の雪景色は特に人気です。特に、富士山や琵琶湖、離\n"
     ]
    }
   ],
   "source": [
    "# 出力の多様性\n",
    "message = \"日本の魅力を紹介して！\"\n",
    "\n",
    "# APIへリクエスト\n",
    "response = client.chat.completions.create(\n",
    "    model=MODEL_NAME,\n",
    "    messages=[\n",
    "        {\"role\": \"user\", \"content\": message},\n",
    "    ],\n",
    "    presence_penalty=-2.0,\n",
    "    n = 3, # 3回答を得る\n",
    "    max_completion_tokens = 100 # 出力トークン長を制限\n",
    ")\n",
    "\n",
    "# 結果を表示（複数回答を比較）\n",
    "for choice in response.choices:\n",
    "    print(\"-\" * 20)\n",
    "    print(choice.message.content.strip())"
   ]
  },
  {
   "cell_type": "code",
   "execution_count": 8,
   "id": "e0ce54ae",
   "metadata": {},
   "outputs": [
    {
     "name": "stdout",
     "output_type": "stream",
     "text": [
      "--------------------\n",
      "日本には多くの魅力があります。以下にいくつかのポイントを紹介します。\n",
      "\n",
      "1. **豊かな文化と歴史**: 日本は古代から続く独自の文化や伝統を持っており、寺社仏閣や城などの歴史的な建造物が多数あります。例えば、京都の金閣寺や奈良の東大寺などがあります。\n",
      "\n",
      "2. **美しい自然**: 四\n",
      "--------------------\n",
      "もちろんです！日本の魅力は多岐にわたりますので、いくつかのポイントを挙げてみます。\n",
      "\n",
      "### 1. 自然の美\n",
      "日本は豊かな自然環境に恵まれており、美しい山々、海、湖などが広がっています。特に、富士山や四季折々の風景（桜、紅葉など）は訪れる人々を魅了します。\n",
      "\n",
      "###\n",
      "--------------------\n",
      "日本の魅力は多岐にわたりますが、ここではいくつかのポイントを紹介します。\n",
      "\n",
      "1. **歴史と文化**: 日本は長い歴史を持ち、その中で独自の文化や伝統が育まれました。神社や寺院、城などの歴史的な建造物は、訪れる人々にその深い歴史を感じさせます。また、茶道や華道\n"
     ]
    }
   ],
   "source": [
    "# 出力の多様性\n",
    "message = \"日本の魅力を紹介して！\"\n",
    "\n",
    "# APIへリクエスト\n",
    "response = client.chat.completions.create(\n",
    "    model=MODEL_NAME,\n",
    "    messages=[\n",
    "        {\"role\": \"user\", \"content\": message},\n",
    "    ],\n",
    "    presence_penalty=2.0,\n",
    "    n = 3, # 3回答を得る\n",
    "    max_completion_tokens = 100 # 出力トークン長を制限\n",
    ")\n",
    "\n",
    "# 結果を表示（複数回答を比較）\n",
    "for choice in response.choices:\n",
    "    print(\"-\" * 20)\n",
    "    print(choice.message.content.strip())"
   ]
  },
  {
   "cell_type": "code",
   "execution_count": 9,
   "id": "cdeb7b05",
   "metadata": {},
   "outputs": [
    {
     "name": "stdout",
     "output_type": "stream",
     "text": [
      "tokens_count=2\n",
      "tokens=[95839, 3393]\n"
     ]
    }
   ],
   "source": [
    "import tiktoken\n",
    "from tiktoken.core import Encoding\n",
    "\n",
    "# OpenAI APIの特定のモデルに対応するトークナイザーを取得\n",
    "encoding: Encoding = tiktoken.encoding_for_model(MODEL_NAME) # o200k_base\n",
    "\n",
    "# テキストをトークンIDのリストに変換\n",
    "tokens = encoding.encode(\"こんにちは！\")\n",
    "tokens_count = len(tokens)\n",
    "\n",
    "# トークンの長さとトークンIDを表示\n",
    "print(f\"{tokens_count=}\")\n",
    "print(f\"{tokens=}\")"
   ]
  },
  {
   "cell_type": "code",
   "execution_count": 10,
   "id": "b344f816",
   "metadata": {},
   "outputs": [
    {
     "name": "stdout",
     "output_type": "stream",
     "text": [
      "--------------------\n",
      "B:こんにちは！Aさん、元気ですか？\n",
      "--------------------\n",
      "B:こんにちは！Aさん、元気ですか？\n",
      "--------------------\n",
      "B:こんにちは、Aさん！お元気ですか？\n"
     ]
    }
   ],
   "source": [
    "# トークンの選択度合い\n",
    "message = \"\"\"\n",
    "AさんとBさんで会話してください。\n",
    "A:あ、Bさんだ。\n",
    "B:\n",
    "\"\"\"\n",
    "\n",
    "# APIへリクエスト\n",
    "response = client.chat.completions.create(\n",
    "    model=MODEL_NAME,\n",
    "    messages=[\n",
    "        {\"role\": \"user\", \"content\": message},\n",
    "    ],\n",
    "    max_tokens=100,\n",
    "    n=3,\n",
    "    logit_bias = {95839:8, 3393:8}\n",
    ")\n",
    "\n",
    "# 結果を表示\n",
    "for choice in response.choices:\n",
    "    print(\"-\" * 20)\n",
    "    print(choice.message.content.strip())"
   ]
  },
  {
   "cell_type": "code",
   "execution_count": 11,
   "id": "29007462",
   "metadata": {},
   "outputs": [
    {
     "name": "stdout",
     "output_type": "stream",
     "text": [
      "言語モデルを使う上でのポイントはいくつかあります。以下に挙げてみます。\n",
      "\n",
      "1. **明確な目的設定**: どのようなタスクに言語モデルを利用するのかを明確にします。例えば、自動応答、文章生成、訳文作成などです。\n",
      "\n",
      "2. **入力の品質**: モデルに与える入力（プロンプトや質問）が明確で具体的であるほど、出力の品質が向上します。曖昧な質問を避け、必要な情報を含めるようにしましょう。\n",
      "\n",
      "3. **文脈の提供**: モデルは与えられた情報に基づいて出力します。前後の文脈をうまく活用することで、より関連性の高い出力を得ることができます。\n",
      "\n",
      "4. **モデルの限界を理解する**: 言語モデルは膨大なデータから学習していますが、間違った情報やバイアスを含む可能性があります。モデルの限界を理解し、出力を鵜呑みにせず事実確認を行うことが重要です。\n",
      "\n",
      "5. **反復的な調整**: 出力が満足できるものでない場合は、入力を再調整することが有効です。異なるプロンプトや質問を試してみることが有用です。\n",
      "\n",
      "6. **活用シナリオの多様化**: 言語モデルは多様なタスクに対応できます。単なる質問応答だけでなく、アイデアのブレインストーミングや、文章の校正、要約作成などにも活用することができます。\n",
      "\n",
      "7. **フィードバックの取り入れ**: モデルの出力についてのフィードバックを取り入れ、改善ポイントを見つけることができます。これにより、より良い成果物を得られます。\n",
      "\n",
      "これらのポイントを考慮することで、言語モデルを効果的に活用し、望ましいアウトプットを得ることができるでしょう。"
     ]
    }
   ],
   "source": [
    "# メッセージの設定\n",
    "message = \"言語モデルを使う上でのポイントは\"\n",
    "\n",
    "# APIへリクエスト\n",
    "stream = client.chat.completions.create(\n",
    "    model=MODEL_NAME,\n",
    "    messages=[\n",
    "        {\"role\": \"user\", \"content\": message},\n",
    "    ],\n",
    "    stream=True,\n",
    ")\n",
    "\n",
    "for chunk in stream:\n",
    "    if chunk.choices:\n",
    "        if chunk.choices[0].delta.content is not None:\n",
    "            print(chunk.choices[0].delta.content, end=\"\")"
   ]
  }
 ],
 "metadata": {
  "kernelspec": {
   "display_name": ".venv",
   "language": "python",
   "name": "python3"
  },
  "language_info": {
   "codemirror_mode": {
    "name": "ipython",
    "version": 3
   },
   "file_extension": ".py",
   "mimetype": "text/x-python",
   "name": "python",
   "nbconvert_exporter": "python",
   "pygments_lexer": "ipython3",
   "version": "3.12.7"
  }
 },
 "nbformat": 4,
 "nbformat_minor": 5
}
