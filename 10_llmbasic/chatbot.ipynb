{
 "cells": [
  {
   "cell_type": "code",
   "execution_count": 1,
   "id": "d096830a",
   "metadata": {},
   "outputs": [],
   "source": [
    "# 必要なモジュールをインポート\n",
    "import os\n",
    "from dotenv import load_dotenv\n",
    "from openai import OpenAI\n",
    "from pprint import pprint\n",
    "\n",
    "# 環境変数の取得\n",
    "load_dotenv(\"../.env\")\n",
    "\n",
    "# OpenAI APIクライアントを生成\n",
    "client = OpenAI(api_key=os.environ['API_KEY'])\n",
    "\n",
    "# モデル名\n",
    "MODEL_NAME = \"gpt-4o-mini\""
   ]
  },
  {
   "cell_type": "code",
   "execution_count": 2,
   "id": "da2f963f",
   "metadata": {},
   "outputs": [
    {
     "name": "stdout",
     "output_type": "stream",
     "text": [
      "質問:こんにちは！\n",
      "こんにちは！今日はどんなことをお話ししましょうか？質問:新宿でおすすめのディナースポット\n",
      "新宿にはたくさんの素晴らしいディナースポットがあります。いくつかおすすめのお店を紹介しますね。\n",
      "\n",
      "1. **焼肉ジャンボ** - A5ランクの和牛を使用した高品質な焼肉が楽しめるお店です。落ち着いた雰囲気で、特別なディナーにぴったりです。\n",
      "\n",
      "2. **とんかつまい泉** - サクサクのとんかつが楽しめる人気店。お弁当スタイルも選べるので、気軽に訪れることができます。\n",
      "\n",
      "3. **新宿グリル満天星** - コース料理やアラカルトで楽しめる洋食レストラン。落ち着いた雰囲気の中でゆったりと食事ができます。\n",
      "\n",
      "4. **寿司大** - 新鮮なネタを使った本格寿司が楽しめるお店。カウンター席では職人の技を間近で見ることもできます。\n",
      "\n",
      "5. **ザ・パシフィックダイナー** - アメリカンスタイルの料理が楽しめるダイナー。カジュアルな雰囲気で、友人や家族と楽しむのに最適です。\n",
      "\n",
      "これらのスポットは新宿の中でも特に人気のあるお店ですので、事前に予約をすると良いでしょう。素敵なディナーを楽しんでください！\n",
      "---ご利用ありがとうございました！---\n"
     ]
    }
   ],
   "source": [
    "# メッセージを格納するリスト\n",
    "messages=[]\n",
    "\n",
    "while(True):\n",
    "    # ユーザーからの質問を受付\n",
    "    message = input(\"メッセージを入力:\")\n",
    "    # 質問が入力されなければ終了\n",
    "    if message.strip()==\"\":\n",
    "        break\n",
    "    print(f\"質問:{message}\")\n",
    "\n",
    "    # メッセージにユーザーからの質問を追加\n",
    "    messages.append({\"role\": \"user\", \"content\": message.strip()})\n",
    "    # やりとりが8を超えたら古いメッセージから削除\n",
    "    if len(messages) > 8:\n",
    "        del_message = messages.pop(0)\n",
    "\n",
    "    # APIへリクエスト\n",
    "    stream = client.chat.completions.create(\n",
    "        model=MODEL_NAME,\n",
    "        messages=messages,\n",
    "        stream=True,\n",
    "    )\n",
    "\n",
    "    # 言語モデルからの回答を表示\n",
    "    response_message = \"\"\n",
    "    for chunk in stream:\n",
    "        if chunk.choices:\n",
    "            next = chunk.choices[0].delta.content\n",
    "            if next is not None:\n",
    "                response_message += next\n",
    "                print(next, end='', flush=True)\n",
    "\n",
    "    # メッセージに言語モデルからの回答を追加\n",
    "    messages.append({\"role\": \"assistant\", \"content\": response_message})\n",
    "\n",
    "print(\"\\n---ご利用ありがとうございました！---\")"
   ]
  }
 ],
 "metadata": {
  "kernelspec": {
   "display_name": ".venv",
   "language": "python",
   "name": "python3"
  },
  "language_info": {
   "codemirror_mode": {
    "name": "ipython",
    "version": 3
   },
   "file_extension": ".py",
   "mimetype": "text/x-python",
   "name": "python",
   "nbconvert_exporter": "python",
   "pygments_lexer": "ipython3",
   "version": "3.12.7"
  }
 },
 "nbformat": 4,
 "nbformat_minor": 5
}
