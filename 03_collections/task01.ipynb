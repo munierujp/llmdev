{
 "cells": [
  {
   "cell_type": "markdown",
   "id": "b38e28af",
   "metadata": {},
   "source": [
    "# 学生の成績分析ツールを作成しよう\n",
    "\n",
    "学生の成績データを管理するには、各成績の集計や分析が重要です。ここでは、複数の成績を入力し、それに基づいた基本的な情報を表示する成績分析ツールを作成してみましょう。\n",
    "\n",
    "`03_collections` フォルダの中に `task01.ipynb` というノートブックを作成し、以下の仕様を満たすプログラムを記述してください。\n",
    "\n",
    "## 仕様\n",
    "\n",
    "- 学生の成績をリストとして定義します。以下のソースコードを使用してください。  \n",
    "  `grades = [85, 90, 78, 92, 88]`\n",
    "- 成績のリストを使用して以下を行ってください。\n",
    "  - 成績の平均点を計算します。\n",
    "  - 成績の最高点と最低点を求めます。\n",
    "  - 成績が平均以上の学生数をカウントします。\n",
    "- 結果を出力してください。\n",
    "\n",
    "## 実行結果の例：\n",
    "\n",
    "**成績リストが `[85, 90, 78, 92, 88]` の場合**\n",
    "\n",
    "```\n",
    "平均点: 86.6  \n",
    "最高点: 92  \n",
    "最低点: 78  \n",
    "平均以上の学生数: 3\n",
    "```\n",
    "\n",
    "**成績リストが `[70, 75, 80, 85, 90]` の場合**\n",
    "\n",
    "```\n",
    "平均点: 80.0  \n",
    "最高点: 90  \n",
    "最低点: 70  \n",
    "平均以上の学生数: 3\n",
    "```"
   ]
  },
  {
   "cell_type": "markdown",
   "id": "4cc3323a",
   "metadata": {},
   "source": [
    "## 回答"
   ]
  },
  {
   "cell_type": "code",
   "execution_count": 7,
   "id": "a072442b",
   "metadata": {},
   "outputs": [
    {
     "name": "stdout",
     "output_type": "stream",
     "text": [
      "平均点: 86.6\n",
      "最高点: 92\n",
      "最低点: 78\n",
      "平均以上の学生数: 3\n"
     ]
    }
   ],
   "source": [
    "def calc(grades: list[int]) -> str:\n",
    "  avg_grade = sum(grades) / len(grades)\n",
    "  max_grade = max(grades)\n",
    "  min_grade = min(grades)\n",
    "  above_avg_count = sum(1 for grade in grades if grade >= avg_grade)\n",
    "  message = f\"\"\"\n",
    "平均点: {avg_grade:.1f}\n",
    "最高点: {max_grade}\n",
    "最低点: {min_grade}\n",
    "平均以上の学生数: {above_avg_count}\n",
    "\"\"\".strip(\"\\n\")\n",
    "  return message\n",
    "\n",
    "grades = [85, 90, 78, 92, 88]\n",
    "message = calc(grades)\n",
    "print(message)"
   ]
  },
  {
   "cell_type": "markdown",
   "id": "91d62e55",
   "metadata": {},
   "source": [
    "## テスト"
   ]
  },
  {
   "cell_type": "code",
   "execution_count": 10,
   "id": "be8fa765",
   "metadata": {},
   "outputs": [],
   "source": [
    "# 成績リストが [85, 90, 78, 92, 88] の場合\n",
    "assert calc([85, 90, 78, 92, 88]) == \"\"\"\n",
    "平均点: 86.6\n",
    "最高点: 92\n",
    "最低点: 78\n",
    "平均以上の学生数: 3\n",
    "\"\"\".strip(\"\\n\")\n",
    "\n",
    "# 成績リストが [70, 75, 80, 85, 90] の場合\n",
    "assert calc([70, 75, 80, 85, 90]) == \"\"\"\n",
    "平均点: 80.0\n",
    "最高点: 90\n",
    "最低点: 70\n",
    "平均以上の学生数: 3\n",
    "\"\"\".strip(\"\\n\")"
   ]
  }
 ],
 "metadata": {
  "kernelspec": {
   "display_name": ".venv",
   "language": "python",
   "name": "python3"
  },
  "language_info": {
   "codemirror_mode": {
    "name": "ipython",
    "version": 3
   },
   "file_extension": ".py",
   "mimetype": "text/x-python",
   "name": "python",
   "nbconvert_exporter": "python",
   "pygments_lexer": "ipython3",
   "version": "3.12.7"
  }
 },
 "nbformat": 4,
 "nbformat_minor": 5
}
