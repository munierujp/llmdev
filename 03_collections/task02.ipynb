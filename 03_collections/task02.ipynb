{
 "cells": [
  {
   "cell_type": "markdown",
   "id": "4bdbf164",
   "metadata": {},
   "source": [
    "## 単語の文字数をカウントしよう\n",
    "\n",
    "テキストデータの分析では、商品レビューやSNS投稿などの文字列データから頻出単語や文字の出現回数を集計することが多くあります。ここでは、テキストデータの分析に役立つ課題へチャレンジしてみましょう。\n",
    "\n",
    "`03_collections` フォルダの中に `task02.ipynb` というノートブックを作成し、以下の仕様を満たすプログラムを記述してください。\n",
    "\n",
    "## 仕様\n",
    "\n",
    "英単語の入力を受け付けます。未入力でリターン（エンター）キーを押されるまで、英単語の受付を繰り返します。受付が完了したら、入力された英単語をABC順に並べ替えて表示します。また、すべての英単語に含まれるアルファベットごとの数も表示します。\n",
    "\n",
    "## 解き方のヒント\n",
    "\n",
    "いきなりソースコードを書くのではなく、プログラム思考で仕様を整理しましょう。考え方の例を示します。\n",
    "\n",
    "1. 英単語を格納するための空のリストを作成する  \n",
    "2. アルファベットごとの数を格納する辞書を作成する。キーがアルファベット小文字で、値が0の辞書を作成する  \n",
    "   - `'a':0, 'b':0, ..., 'z':0`\n",
    "3. 英単語の入力の受付を繰り返す  \n",
    "   1. キーボードから英単語の入力を受け付ける  \n",
    "   2. 入力された文字が `\"\"` なら繰り返しを抜ける  \n",
    "   3. 英単語をリストに格納する  \n",
    "   4. 英単語を構成する文字を1文字ずつ確認して、登場したアルファベットの数に1を加算する  \n",
    "4. 英単語のリストをABC順に並べ替える  \n",
    "5. 英単語のリストを一覧表示する  \n",
    "6. アルファベットごとの数を格納する辞書から、数が0より大きい文字について「○が△個ありました」と表示する  \n",
    "\n",
    "## 実行結果の例：\n",
    "\n",
    "```\n",
    "英単語を入力してください：dog  \n",
    "英単語を入力してください：cat  \n",
    "英単語を入力してください：giraffe  \n",
    "英単語を入力してください：kangaroo  \n",
    "英単語を入力してください：horse  \n",
    "英単語を入力してください：bear  \n",
    "英単語を入力してください：\n",
    "\n",
    "入力した英単語：['bear', 'cat', 'dog', 'giraffe', 'horse', 'kangaroo']  \n",
    "aが5個ありました  \n",
    "bが1個ありました  \n",
    "cが1個ありました  \n",
    "dが1個ありました  \n",
    "eが3個ありました  \n",
    "fが2個ありました  \n",
    "gが3個ありました  \n",
    "hが1個ありました  \n",
    "iが1個ありました  \n",
    "kが1個ありました  \n",
    "nが1個ありました  \n",
    "oが4個ありました  \n",
    "rが4個ありました  \n",
    "sが1個ありました  \n",
    "tが1個ありました  \n",
    "```"
   ]
  },
  {
   "cell_type": "markdown",
   "id": "f4aa716b",
   "metadata": {},
   "source": [
    "## 回答"
   ]
  },
  {
   "cell_type": "code",
   "execution_count": 2,
   "id": "11aaeb21",
   "metadata": {},
   "outputs": [
    {
     "name": "stdout",
     "output_type": "stream",
     "text": [
      "入力した英単語：['bear', 'cat', 'dog', 'giraffe', 'horse', 'kangaroo']\n",
      "aが5個ありました\n",
      "bが1個ありました\n",
      "cが1個ありました\n",
      "dが1個ありました\n",
      "eが3個ありました\n",
      "fが2個ありました\n",
      "gが3個ありました\n",
      "hが1個ありました\n",
      "iが1個ありました\n",
      "kが1個ありました\n",
      "nが1個ありました\n",
      "oが4個ありました\n",
      "rが4個ありました\n",
      "sが1個ありました\n",
      "tが1個ありました\n"
     ]
    }
   ],
   "source": [
    "words = []\n",
    "alphabets = {chr(i): 0 for i in range(ord('a'), ord('z') + 1)}\n",
    "\n",
    "while True:\n",
    "  word = input(\"英単語を入力してください：\")\n",
    "  \n",
    "  if not word:\n",
    "    break\n",
    "\n",
    "  for char in word:\n",
    "    alphabets[char] += 1\n",
    "\n",
    "  words.append(word)\n",
    "\n",
    "print(f\"入力した英単語：{sorted(words)}\")\n",
    "\n",
    "for alphabet, count in alphabets.items():\n",
    "  if count:\n",
    "    print(f\"{alphabet}が{count}個ありました\")"
   ]
  }
 ],
 "metadata": {
  "kernelspec": {
   "display_name": ".venv",
   "language": "python",
   "name": "python3"
  },
  "language_info": {
   "codemirror_mode": {
    "name": "ipython",
    "version": 3
   },
   "file_extension": ".py",
   "mimetype": "text/x-python",
   "name": "python",
   "nbconvert_exporter": "python",
   "pygments_lexer": "ipython3",
   "version": "3.12.7"
  }
 },
 "nbformat": 4,
 "nbformat_minor": 5
}
